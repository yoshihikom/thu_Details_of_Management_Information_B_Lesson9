{
 "cells": [
  {
   "cell_type": "code",
   "execution_count": 2,
   "id": "9a84a11b",
   "metadata": {},
   "outputs": [],
   "source": [
    "# openpyxlモジュールをインポート後、load_workbookを使用してブックを開きます。 引数にはファイル名を指定しましょう。\n",
    "import openpyxl\n",
    "book = openpyxl.load_workbook('test_book.xlsx')"
   ]
  },
  {
   "cell_type": "code",
   "execution_count": 3,
   "id": "d9894f82",
   "metadata": {},
   "outputs": [
    {
     "name": "stdout",
     "output_type": "stream",
     "text": [
      "--------------------------------\n",
      "3\n",
      "--------------------------------\n",
      "テストシート１\n",
      "テストシート２\n",
      "テストシート３\n"
     ]
    }
   ],
   "source": [
    "# ブック内のシート数と全シート名を出力してみましょう。\n",
    "print('--------------------------------')\n",
    "print(len(book.sheetnames))\n",
    " \n",
    "print('--------------------------------')\n",
    "for name in book.sheetnames:\n",
    "    print(name)"
   ]
  },
  {
   "cell_type": "code",
   "execution_count": 4,
   "id": "de72dde0",
   "metadata": {},
   "outputs": [
    {
     "name": "stdout",
     "output_type": "stream",
     "text": [
      "テストシート１\n",
      "テストシート２\n",
      "テストシート３\n",
      "テストシート３\n"
     ]
    },
    {
     "name": "stderr",
     "output_type": "stream",
     "text": [
      "C:\\Users\\murak\\AppData\\Local\\Temp\\ipykernel_34968\\2650626096.py:5: DeprecationWarning: Call to deprecated function get_sheet_by_name (Use wb[sheetname]).\n",
      "  print(book.get_sheet_by_name('テストシート３').title)\n"
     ]
    }
   ],
   "source": [
    "# ブック内の特定のシートを取得する例です。次の例ではtitleでそれぞれのシート名を取得しています。\n",
    "print(book.active.title)\n",
    "print(book.worksheets[1].title)\n",
    "print(book['テストシート３'].title)\n",
    "print(book.get_sheet_by_name('テストシート３').title)"
   ]
  },
  {
   "cell_type": "code",
   "execution_count": 5,
   "id": "718ee51e",
   "metadata": {},
   "outputs": [
    {
     "name": "stdout",
     "output_type": "stream",
     "text": [
      "3\n",
      "10\n"
     ]
    }
   ],
   "source": [
    "# 特定のシート内に存在する列数と行数を取得します。\n",
    "active_sheet = book.active\n",
    "print(active_sheet.max_column)\n",
    "print(active_sheet.max_row)"
   ]
  },
  {
   "cell_type": "code",
   "execution_count": 6,
   "id": "82eaf8b7",
   "metadata": {},
   "outputs": [
    {
     "name": "stdout",
     "output_type": "stream",
     "text": [
      "テストセルA1\n",
      "テストセルB2\n"
     ]
    }
   ],
   "source": [
    "# シート内のセル値を取得するには、cellの引数に列と行を渡します。\n",
    "# 開始値は0ではなく1なので注意してください（列１、行１の指定で最も左上のセル「A1」を取得）。\n",
    "# またExcelでセルを指定する‘<列><行>’のような形式でも取得することができます（例では「B2」）。\n",
    "print(active_sheet.cell(column=1, row=1).value)\n",
    "print(active_sheet['B2'].value)"
   ]
  },
  {
   "cell_type": "code",
   "execution_count": 7,
   "id": "75045317",
   "metadata": {},
   "outputs": [
    {
     "name": "stdout",
     "output_type": "stream",
     "text": [
      "----------------------------\n",
      "テストセルA1\n",
      "テストセルA2\n",
      "テストセルA3\n",
      "テストセルA4\n",
      "テストセルA5\n",
      "テストセルA6\n",
      "テストセルA7\n",
      "テストセルA8\n",
      "テストセルA9\n",
      "テストセルA10\n",
      "----------------------------\n",
      "テストセルB1\n",
      "テストセルB2\n",
      "テストセルB3\n",
      "テストセルB4\n",
      "テストセルB5\n",
      "テストセルB6\n",
      "テストセルB7\n",
      "テストセルB8\n",
      "テストセルB9\n",
      "テストセルB10\n",
      "----------------------------\n",
      "テストセルC1\n",
      "テストセルC2\n",
      "テストセルC3\n",
      "テストセルC4\n",
      "テストセルC5\n",
      "テストセルC6\n",
      "テストセルC7\n",
      "テストセルC8\n",
      "テストセルC9\n",
      "テストセルC10\n"
     ]
    }
   ],
   "source": [
    "# 列ベースですべてのセル値を取得する場合は次のようにシートのcolumnsを用います。\n",
    "for column in active_sheet.columns:\n",
    "    print('----------------------------')\n",
    "    for cell in column:\n",
    "        print(cell.value)"
   ]
  },
  {
   "cell_type": "code",
   "execution_count": 8,
   "id": "e77f6954",
   "metadata": {},
   "outputs": [
    {
     "name": "stdout",
     "output_type": "stream",
     "text": [
      "----------------------------\n",
      "テストセルA1\n",
      "テストセルB1\n",
      "テストセルC1\n",
      "----------------------------\n",
      "テストセルA2\n",
      "テストセルB2\n",
      "テストセルC2\n",
      "----------------------------\n",
      "テストセルA3\n",
      "テストセルB3\n",
      "テストセルC3\n",
      "----------------------------\n",
      "テストセルA4\n",
      "テストセルB4\n",
      "テストセルC4\n",
      "----------------------------\n",
      "テストセルA5\n",
      "テストセルB5\n",
      "テストセルC5\n",
      "----------------------------\n",
      "テストセルA6\n",
      "テストセルB6\n",
      "テストセルC6\n",
      "----------------------------\n",
      "テストセルA7\n",
      "テストセルB7\n",
      "テストセルC7\n",
      "----------------------------\n",
      "テストセルA8\n",
      "テストセルB8\n",
      "テストセルC8\n",
      "----------------------------\n",
      "テストセルA9\n",
      "テストセルB9\n",
      "テストセルC9\n",
      "----------------------------\n",
      "テストセルA10\n",
      "テストセルB10\n",
      "テストセルC10\n"
     ]
    }
   ],
   "source": [
    "# 行ベースですべてのセル値を取得する場合は次のようにシートのrowsを用います。\n",
    "for row in active_sheet.rows:\n",
    "    print('----------------------------')\n",
    "    for cell in row:\n",
    "        print(cell.value)"
   ]
  }
 ],
 "metadata": {
  "kernelspec": {
   "display_name": "Python 3 (ipykernel)",
   "language": "python",
   "name": "python3"
  },
  "language_info": {
   "codemirror_mode": {
    "name": "ipython",
    "version": 3
   },
   "file_extension": ".py",
   "mimetype": "text/x-python",
   "name": "python",
   "nbconvert_exporter": "python",
   "pygments_lexer": "ipython3",
   "version": "3.8.13"
  }
 },
 "nbformat": 4,
 "nbformat_minor": 5
}
